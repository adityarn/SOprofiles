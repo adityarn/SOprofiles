{
 "cells": [
  {
   "cell_type": "code",
   "execution_count": 1,
   "id": "35d82bc4-924b-40f4-98bb-1be2006cfbae",
   "metadata": {},
   "outputs": [],
   "source": [
    "import pandas as pd\n",
    "import polars as pl\n",
    "import dask.dataframe as dd\n",
    "import dask.multiprocessing"
   ]
  },
  {
   "cell_type": "code",
   "execution_count": 2,
   "id": "ea15a39d-4191-40e5-b8ff-969f32becd86",
   "metadata": {},
   "outputs": [],
   "source": [
    "meop = dd.read_csv(\"/home/an1n23/datasets/merged_MEOP_26112021.csv\", blocksize=\"1e9\")"
   ]
  },
  {
   "cell_type": "code",
   "execution_count": 3,
   "id": "e36697c0-3263-4533-9cef-ef42582c3c86",
   "metadata": {},
   "outputs": [
    {
     "data": {
      "text/plain": [
       "Index(['Unnamed: 0', 'PLATFORM_NUMBER', 'PROFILE_NUMBER', 'TEMP_ADJUSTED',\n",
       "       'PSAL_ADJUSTED', 'PRES_ADJUSTED', 'PRES_ADJUSTED_QC',\n",
       "       'PRES_ADJUSTED_ERROR', 'TEMP_ADJUSTED_QC', 'TEMP_ADJUSTED_ERROR',\n",
       "       'PSAL_ADJUSTED_QC', 'PSAL_ADJUSTED_ERROR', 'JULD', 'LATITUDE',\n",
       "       'LONGITUDE', 'POSITION_QC'],\n",
       "      dtype='object')"
      ]
     },
     "execution_count": 3,
     "metadata": {},
     "output_type": "execute_result"
    }
   ],
   "source": [
    "meop.columns"
   ]
  },
  {
   "cell_type": "code",
   "execution_count": 5,
   "id": "e51a8828-65c2-4446-801d-778d6b1e2ac3",
   "metadata": {},
   "outputs": [
    {
     "ename": "TypeError",
     "evalue": "unsupported operand type(s) for -: 'str' and 'str'",
     "output_type": "error",
     "traceback": [
      "\u001b[0;31m---------------------------------------------------------------------------\u001b[0m",
      "\u001b[0;31mTypeError\u001b[0m                                 Traceback (most recent call last)",
      "Cell \u001b[0;32mIn[5], line 1\u001b[0m\n\u001b[0;32m----> 1\u001b[0m (\u001b[43mmeop\u001b[49m\u001b[43m[\u001b[49m\u001b[38;5;124;43m\"\u001b[39;49m\u001b[38;5;124;43mJULD\u001b[39;49m\u001b[38;5;124;43m\"\u001b[39;49m\u001b[43m]\u001b[49m\u001b[38;5;241;43m.\u001b[39;49m\u001b[43mmax\u001b[49m\u001b[43m(\u001b[49m\u001b[43m)\u001b[49m\u001b[43m \u001b[49m\u001b[38;5;241;43m-\u001b[39;49m\u001b[43m \u001b[49m\u001b[43mmeop\u001b[49m\u001b[43m[\u001b[49m\u001b[38;5;124;43m\"\u001b[39;49m\u001b[38;5;124;43mJULD\u001b[39;49m\u001b[38;5;124;43m\"\u001b[39;49m\u001b[43m]\u001b[49m\u001b[38;5;241;43m.\u001b[39;49m\u001b[43mmin\u001b[49m\u001b[43m(\u001b[49m\u001b[43m)\u001b[49m)\u001b[38;5;241m.\u001b[39mcompute()\n",
      "File \u001b[0;32m~/.conda/envs/oceanpy/lib/python3.9/site-packages/dask/dataframe/core.py:316\u001b[0m, in \u001b[0;36mScalar._get_binary_operator.<locals>.<lambda>\u001b[0;34m(self, other)\u001b[0m\n\u001b[1;32m    314\u001b[0m \u001b[38;5;129m@classmethod\u001b[39m\n\u001b[1;32m    315\u001b[0m \u001b[38;5;28;01mdef\u001b[39;00m \u001b[38;5;21m_get_binary_operator\u001b[39m(\u001b[38;5;28mcls\u001b[39m, op, inv\u001b[38;5;241m=\u001b[39m\u001b[38;5;28;01mFalse\u001b[39;00m):\n\u001b[0;32m--> 316\u001b[0m     \u001b[38;5;28;01mreturn\u001b[39;00m \u001b[38;5;28;01mlambda\u001b[39;00m \u001b[38;5;28mself\u001b[39m, other: \u001b[43m_scalar_binary\u001b[49m\u001b[43m(\u001b[49m\u001b[43mop\u001b[49m\u001b[43m,\u001b[49m\u001b[43m \u001b[49m\u001b[38;5;28;43mself\u001b[39;49m\u001b[43m,\u001b[49m\u001b[43m \u001b[49m\u001b[43mother\u001b[49m\u001b[43m,\u001b[49m\u001b[43m \u001b[49m\u001b[43minv\u001b[49m\u001b[38;5;241;43m=\u001b[39;49m\u001b[43minv\u001b[49m\u001b[43m)\u001b[49m\n",
      "File \u001b[0;32m~/.conda/envs/oceanpy/lib/python3.9/site-packages/dask/dataframe/core.py:360\u001b[0m, in \u001b[0;36m_scalar_binary\u001b[0;34m(op, self, other, inv)\u001b[0m\n\u001b[1;32m    358\u001b[0m     meta \u001b[38;5;241m=\u001b[39m op(other_meta_nonempty, \u001b[38;5;28mself\u001b[39m\u001b[38;5;241m.\u001b[39m_meta_nonempty)\n\u001b[1;32m    359\u001b[0m \u001b[38;5;28;01melse\u001b[39;00m:\n\u001b[0;32m--> 360\u001b[0m     meta \u001b[38;5;241m=\u001b[39m \u001b[43mop\u001b[49m\u001b[43m(\u001b[49m\u001b[38;5;28;43mself\u001b[39;49m\u001b[38;5;241;43m.\u001b[39;49m\u001b[43m_meta_nonempty\u001b[49m\u001b[43m,\u001b[49m\u001b[43m \u001b[49m\u001b[43mother_meta_nonempty\u001b[49m\u001b[43m)\u001b[49m\n\u001b[1;32m    362\u001b[0m graph \u001b[38;5;241m=\u001b[39m HighLevelGraph\u001b[38;5;241m.\u001b[39mfrom_collections(name, dsk, dependencies\u001b[38;5;241m=\u001b[39mdependencies)\n\u001b[1;32m    363\u001b[0m \u001b[38;5;28;01mif\u001b[39;00m return_type \u001b[38;5;129;01mis\u001b[39;00m \u001b[38;5;129;01mnot\u001b[39;00m Scalar:\n",
      "\u001b[0;31mTypeError\u001b[0m: unsupported operand type(s) for -: 'str' and 'str'"
     ]
    }
   ],
   "source": [
    "(meop[\"JULD\"].max() - meop[\"JULD\"].min()).compute()"
   ]
  },
  {
   "cell_type": "code",
   "execution_count": 7,
   "id": "676da2c4-77a4-401b-806e-ed6003942df6",
   "metadata": {},
   "outputs": [],
   "source": [
    "sel_RS_AS = (meop[\"LONGITUDE\"] > 130) | (meop[\"LONGITUDE\"] < -60)"
   ]
  },
  {
   "cell_type": "code",
   "execution_count": 8,
   "id": "48142d0d-cc9c-4a91-aa88-18794093be41",
   "metadata": {},
   "outputs": [
    {
     "data": {
      "text/plain": [
       "['/home/an1n23/datasets/merged_RS_AS_MEOP26112021.csv/00.part',\n",
       " '/home/an1n23/datasets/merged_RS_AS_MEOP26112021.csv/01.part',\n",
       " '/home/an1n23/datasets/merged_RS_AS_MEOP26112021.csv/02.part',\n",
       " '/home/an1n23/datasets/merged_RS_AS_MEOP26112021.csv/03.part',\n",
       " '/home/an1n23/datasets/merged_RS_AS_MEOP26112021.csv/04.part',\n",
       " '/home/an1n23/datasets/merged_RS_AS_MEOP26112021.csv/05.part',\n",
       " '/home/an1n23/datasets/merged_RS_AS_MEOP26112021.csv/06.part',\n",
       " '/home/an1n23/datasets/merged_RS_AS_MEOP26112021.csv/07.part',\n",
       " '/home/an1n23/datasets/merged_RS_AS_MEOP26112021.csv/08.part',\n",
       " '/home/an1n23/datasets/merged_RS_AS_MEOP26112021.csv/09.part',\n",
       " '/home/an1n23/datasets/merged_RS_AS_MEOP26112021.csv/10.part',\n",
       " '/home/an1n23/datasets/merged_RS_AS_MEOP26112021.csv/11.part',\n",
       " '/home/an1n23/datasets/merged_RS_AS_MEOP26112021.csv/12.part',\n",
       " '/home/an1n23/datasets/merged_RS_AS_MEOP26112021.csv/13.part',\n",
       " '/home/an1n23/datasets/merged_RS_AS_MEOP26112021.csv/14.part',\n",
       " '/home/an1n23/datasets/merged_RS_AS_MEOP26112021.csv/15.part',\n",
       " '/home/an1n23/datasets/merged_RS_AS_MEOP26112021.csv/16.part',\n",
       " '/home/an1n23/datasets/merged_RS_AS_MEOP26112021.csv/17.part',\n",
       " '/home/an1n23/datasets/merged_RS_AS_MEOP26112021.csv/18.part',\n",
       " '/home/an1n23/datasets/merged_RS_AS_MEOP26112021.csv/19.part',\n",
       " '/home/an1n23/datasets/merged_RS_AS_MEOP26112021.csv/20.part',\n",
       " '/home/an1n23/datasets/merged_RS_AS_MEOP26112021.csv/21.part',\n",
       " '/home/an1n23/datasets/merged_RS_AS_MEOP26112021.csv/22.part',\n",
       " '/home/an1n23/datasets/merged_RS_AS_MEOP26112021.csv/23.part',\n",
       " '/home/an1n23/datasets/merged_RS_AS_MEOP26112021.csv/24.part',\n",
       " '/home/an1n23/datasets/merged_RS_AS_MEOP26112021.csv/25.part',\n",
       " '/home/an1n23/datasets/merged_RS_AS_MEOP26112021.csv/26.part',\n",
       " '/home/an1n23/datasets/merged_RS_AS_MEOP26112021.csv/27.part',\n",
       " '/home/an1n23/datasets/merged_RS_AS_MEOP26112021.csv/28.part',\n",
       " '/home/an1n23/datasets/merged_RS_AS_MEOP26112021.csv/29.part',\n",
       " '/home/an1n23/datasets/merged_RS_AS_MEOP26112021.csv/30.part',\n",
       " '/home/an1n23/datasets/merged_RS_AS_MEOP26112021.csv/31.part',\n",
       " '/home/an1n23/datasets/merged_RS_AS_MEOP26112021.csv/32.part',\n",
       " '/home/an1n23/datasets/merged_RS_AS_MEOP26112021.csv/33.part',\n",
       " '/home/an1n23/datasets/merged_RS_AS_MEOP26112021.csv/34.part',\n",
       " '/home/an1n23/datasets/merged_RS_AS_MEOP26112021.csv/35.part',\n",
       " '/home/an1n23/datasets/merged_RS_AS_MEOP26112021.csv/36.part']"
      ]
     },
     "execution_count": 8,
     "metadata": {},
     "output_type": "execute_result"
    }
   ],
   "source": [
    "meop.loc[sel_RS_AS].to_csv(\"/home/an1n23/datasets/merged_RS_AS_MEOP26112021.csv\")"
   ]
  },
  {
   "cell_type": "code",
   "execution_count": 9,
   "id": "36c06f12-ba2d-4554-a7fb-0bddb78479af",
   "metadata": {},
   "outputs": [],
   "source": [
    "!echo \"completed RS AS slice of MEOP 27092023\" > arbit.txt"
   ]
  },
  {
   "cell_type": "code",
   "execution_count": null,
   "id": "eb8171d4-8e9c-4c34-806b-a06c6f6112c9",
   "metadata": {},
   "outputs": [],
   "source": []
  }
 ],
 "metadata": {
  "kernelspec": {
   "display_name": "Python 3 (ipykernel)",
   "language": "python",
   "name": "python3"
  },
  "language_info": {
   "codemirror_mode": {
    "name": "ipython",
    "version": 3
   },
   "file_extension": ".py",
   "mimetype": "text/x-python",
   "name": "python",
   "nbconvert_exporter": "python",
   "pygments_lexer": "ipython3",
   "version": "3.9.18"
  }
 },
 "nbformat": 4,
 "nbformat_minor": 5
}
