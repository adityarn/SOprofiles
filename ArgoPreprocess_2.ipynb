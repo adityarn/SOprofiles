{
 "cells": [
  {
   "cell_type": "code",
   "execution_count": 4,
   "id": "09f64f16-f702-43c0-a582-728d7833015d",
   "metadata": {},
   "outputs": [],
   "source": [
    "import pandas as pd\n",
    "import polars as pl\n",
    "import dask.dataframe as dd\n",
    "import dask.multiprocessing"
   ]
  },
  {
   "cell_type": "code",
   "execution_count": null,
   "id": "65b7558c-41a8-4f36-9f98-ec923e66d052",
   "metadata": {},
   "outputs": [],
   "source": [
    "meop = pd.read_csv(\"/home/an1n23/datasets/merged_RS_AS_MEOP26112021.csv/\")"
   ]
  },
  {
   "cell_type": "code",
   "execution_count": 5,
   "id": "be142f2e-d113-48a7-9fda-69a8eba6b14e",
   "metadata": {},
   "outputs": [],
   "source": [
    "argo = dd.read_csv(\"/home/an1n23/datasets/Argo_29082023/merged_SO_ARGO29082023.csv\", blocksize=\"1e9\",\n",
    "                   usecols=['PLATFORM_CODE', 'DATE (YYYY-MM-DDTHH:MI:SSZ)', 'LATITUDE (degree_north)', \n",
    "                            'LONGITUDE (degree_east)', 'POSITION_QC', 'PRES_ADJUSTED (decibar)',\n",
    "       'PRES_ADJUSTED_QC', 'TEMP_ADJUSTED (degree_Celsius)',\n",
    "       'TEMP_ADJUSTED_QC', 'PSAL_ADJUSTED (psu)', 'PSAL_ADJUSTED_QC'])"
   ]
  },
  {
   "cell_type": "code",
   "execution_count": 6,
   "id": "6eb05c92-8cc1-45fb-93fa-644b634bd94e",
   "metadata": {},
   "outputs": [
    {
     "data": {
      "text/plain": [
       "Index(['PLATFORM_CODE', 'DATE (YYYY-MM-DDTHH:MI:SSZ)',\n",
       "       'LATITUDE (degree_north)', 'LONGITUDE (degree_east)', 'POSITION_QC',\n",
       "       'PRES_ADJUSTED (decibar)', 'PRES_ADJUSTED_QC',\n",
       "       'TEMP_ADJUSTED (degree_Celsius)', 'TEMP_ADJUSTED_QC',\n",
       "       'PSAL_ADJUSTED (psu)', 'PSAL_ADJUSTED_QC'],\n",
       "      dtype='object')"
      ]
     },
     "execution_count": 6,
     "metadata": {},
     "output_type": "execute_result"
    }
   ],
   "source": [
    "argo.columns"
   ]
  },
  {
   "cell_type": "code",
   "execution_count": null,
   "id": "eac9faf0-d8d9-4064-8b60-2704da8f6e3e",
   "metadata": {},
   "outputs": [],
   "source": [
    "argo = argo.compute(scheduler=\"processes\")"
   ]
  },
  {
   "cell_type": "code",
   "execution_count": 9,
   "id": "d3b4ff13-0cba-4fa7-9c61-8298b1fb845b",
   "metadata": {},
   "outputs": [],
   "source": [
    "sel_RS_AS = (argo[\"LONGITUDE (degree_east)\"] > 130) | (argo[\"LONGITUDE (degree_east)\"] < -60)"
   ]
  },
  {
   "cell_type": "code",
   "execution_count": null,
   "id": "9979a54f-09f9-4278-9bf8-af884ad2c4bc",
   "metadata": {},
   "outputs": [],
   "source": [
    "argo.loc[sel_RS_AS].to_csv(\"/home/an1n23/datasets/merged_RS_AS_ARGO29082023.csv\")"
   ]
  },
  {
   "cell_type": "code",
   "execution_count": null,
   "id": "64d07554-0318-4742-b712-b62712b6605d",
   "metadata": {},
   "outputs": [],
   "source": [
    "print(\"completed RS AS argo disk write!\")"
   ]
  },
  {
   "cell_type": "code",
   "execution_count": null,
   "id": "666485c5-0c2c-4cb6-a6f2-f02807d469bc",
   "metadata": {},
   "outputs": [],
   "source": [
    "!echo \"completed RS AS argo disk write!\" > arbit_argoRSAS.txt"
   ]
  },
  {
   "cell_type": "code",
   "execution_count": 5,
   "id": "0aa940f8-7420-4da1-b3c8-cf27e55424ef",
   "metadata": {},
   "outputs": [
    {
     "data": {
      "text/html": [
       "<div><style>\n",
       ".dataframe > thead > tr > th,\n",
       ".dataframe > tbody > tr > td {\n",
       "  text-align: right;\n",
       "  white-space: pre-wrap;\n",
       "}\n",
       "</style>\n",
       "<small>shape: (5, 22)</small><table border=\"1\" class=\"dataframe\"><thead><tr><th>PLATFORM_CODE</th><th>DATE (YYYY-MM-DDTHH:MI:SSZ)</th><th>DATE_QC</th><th>LATITUDE (degree_north)</th><th>LONGITUDE (degree_east)</th><th>POSITION_QC</th><th>PRES (decibar)</th><th>PRES_QC</th><th>PRES_ADJUSTED (decibar)</th><th>PRES_ADJUSTED_QC</th><th>TEMP_ADJUSTED (degree_Celsius)</th><th>TEMP_ADJUSTED_QC</th><th>PSAL_ADJUSTED (psu)</th><th>PSAL_ADJUSTED_QC</th><th>DOX2_ADJUSTED (micromole/kg)</th><th>DOX2_ADJUSTED_QC</th><th>CPHL_ADJUSTED (milligram/m3)</th><th>CPHL_ADJUSTED_QC</th><th>BBP700_ADJUSTED (m-1)</th><th>BBP700_ADJUSTED_QC</th><th>BBP532_ADJUSTED (m-1)</th><th>BBP532_ADJUSTED_QC</th></tr><tr><td>i64</td><td>str</td><td>i64</td><td>f64</td><td>f64</td><td>i64</td><td>f64</td><td>i64</td><td>f64</td><td>f64</td><td>f64</td><td>f64</td><td>f64</td><td>f64</td><td>f64</td><td>f64</td><td>f64</td><td>f64</td><td>f64</td><td>f64</td><td>f64</td><td>f64</td></tr></thead><tbody><tr><td>1900044</td><td>&quot;2006-04-29T19:…</td><td>1</td><td>-48.762</td><td>131.05701</td><td>1</td><td>7.8</td><td>1</td><td>4.2</td><td>1.0</td><td>9.134</td><td>1.0</td><td>34.496</td><td>1.0</td><td>null</td><td>null</td><td>null</td><td>null</td><td>null</td><td>null</td><td>null</td><td>null</td></tr><tr><td>1900044</td><td>&quot;2006-04-29T19:…</td><td>1</td><td>-48.762</td><td>131.05701</td><td>1</td><td>9.3</td><td>1</td><td>5.7</td><td>1.0</td><td>9.141</td><td>1.0</td><td>34.497</td><td>1.0</td><td>null</td><td>null</td><td>null</td><td>null</td><td>null</td><td>null</td><td>null</td><td>null</td></tr><tr><td>1900044</td><td>&quot;2006-04-29T19:…</td><td>1</td><td>-48.762</td><td>131.05701</td><td>1</td><td>19.4</td><td>1</td><td>15.8</td><td>1.0</td><td>9.142</td><td>1.0</td><td>34.497</td><td>1.0</td><td>null</td><td>null</td><td>null</td><td>null</td><td>null</td><td>null</td><td>null</td><td>null</td></tr><tr><td>1900044</td><td>&quot;2006-04-29T19:…</td><td>1</td><td>-48.762</td><td>131.05701</td><td>1</td><td>29.1</td><td>1</td><td>25.5</td><td>1.0</td><td>9.144</td><td>1.0</td><td>34.496</td><td>1.0</td><td>null</td><td>null</td><td>null</td><td>null</td><td>null</td><td>null</td><td>null</td><td>null</td></tr><tr><td>1900044</td><td>&quot;2006-04-29T19:…</td><td>1</td><td>-48.762</td><td>131.05701</td><td>1</td><td>39.4</td><td>1</td><td>35.8</td><td>1.0</td><td>9.145</td><td>1.0</td><td>34.497</td><td>1.0</td><td>null</td><td>null</td><td>null</td><td>null</td><td>null</td><td>null</td><td>null</td><td>null</td></tr></tbody></table></div>"
      ],
      "text/plain": [
       "shape: (5, 22)\n",
       "┌────────────┬───────────┬─────────┬───────────┬───┬───────────┬───────────┬───────────┬───────────┐\n",
       "│ PLATFORM_C ┆ DATE (YYY ┆ DATE_QC ┆ LATITUDE  ┆ … ┆ BBP700_AD ┆ BBP700_AD ┆ BBP532_AD ┆ BBP532_AD │\n",
       "│ ODE        ┆ Y-MM-DDTH ┆ ---     ┆ (degree_n ┆   ┆ JUSTED    ┆ JUSTED_QC ┆ JUSTED    ┆ JUSTED_QC │\n",
       "│ ---        ┆ H:MI:SSZ) ┆ i64     ┆ orth)     ┆   ┆ (m-1)     ┆ ---       ┆ (m-1)     ┆ ---       │\n",
       "│ i64        ┆ ---       ┆         ┆ ---       ┆   ┆ ---       ┆ f64       ┆ ---       ┆ f64       │\n",
       "│            ┆ str       ┆         ┆ f64       ┆   ┆ f64       ┆           ┆ f64       ┆           │\n",
       "╞════════════╪═══════════╪═════════╪═══════════╪═══╪═══════════╪═══════════╪═══════════╪═══════════╡\n",
       "│ 1900044    ┆ 2006-04-2 ┆ 1       ┆ -48.762   ┆ … ┆ null      ┆ null      ┆ null      ┆ null      │\n",
       "│            ┆ 9T19:12:3 ┆         ┆           ┆   ┆           ┆           ┆           ┆           │\n",
       "│            ┆ 1Z        ┆         ┆           ┆   ┆           ┆           ┆           ┆           │\n",
       "│ 1900044    ┆ 2006-04-2 ┆ 1       ┆ -48.762   ┆ … ┆ null      ┆ null      ┆ null      ┆ null      │\n",
       "│            ┆ 9T19:12:3 ┆         ┆           ┆   ┆           ┆           ┆           ┆           │\n",
       "│            ┆ 1Z        ┆         ┆           ┆   ┆           ┆           ┆           ┆           │\n",
       "│ 1900044    ┆ 2006-04-2 ┆ 1       ┆ -48.762   ┆ … ┆ null      ┆ null      ┆ null      ┆ null      │\n",
       "│            ┆ 9T19:12:3 ┆         ┆           ┆   ┆           ┆           ┆           ┆           │\n",
       "│            ┆ 1Z        ┆         ┆           ┆   ┆           ┆           ┆           ┆           │\n",
       "│ 1900044    ┆ 2006-04-2 ┆ 1       ┆ -48.762   ┆ … ┆ null      ┆ null      ┆ null      ┆ null      │\n",
       "│            ┆ 9T19:12:3 ┆         ┆           ┆   ┆           ┆           ┆           ┆           │\n",
       "│            ┆ 1Z        ┆         ┆           ┆   ┆           ┆           ┆           ┆           │\n",
       "│ 1900044    ┆ 2006-04-2 ┆ 1       ┆ -48.762   ┆ … ┆ null      ┆ null      ┆ null      ┆ null      │\n",
       "│            ┆ 9T19:12:3 ┆         ┆           ┆   ┆           ┆           ┆           ┆           │\n",
       "│            ┆ 1Z        ┆         ┆           ┆   ┆           ┆           ┆           ┆           │\n",
       "└────────────┴───────────┴─────────┴───────────┴───┴───────────┴───────────┴───────────┴───────────┘"
      ]
     },
     "execution_count": 5,
     "metadata": {},
     "output_type": "execute_result"
    }
   ],
   "source": [
    "argo.head(5)"
   ]
  },
  {
   "cell_type": "code",
   "execution_count": 6,
   "id": "299bd531-053b-4d50-8033-8cc71fcd2360",
   "metadata": {},
   "outputs": [],
   "source": [
    "argo = argo.rename({\"DATE (YYYY-MM-DDTHH:MI:SSZ)\":\"DATE\"})"
   ]
  },
  {
   "cell_type": "code",
   "execution_count": null,
   "id": "33637759-607a-4f17-8e8d-65ab19796a74",
   "metadata": {},
   "outputs": [],
   "source": [
    "argo[\"DATE\"].head(5)"
   ]
  },
  {
   "cell_type": "code",
   "execution_count": null,
   "id": "a4350d78-c508-46ab-9b40-41ff35491b23",
   "metadata": {},
   "outputs": [],
   "source": [
    "argo[\"DATE\"] = argo[\"DATE\"].str.to_datetime()"
   ]
  },
  {
   "cell_type": "code",
   "execution_count": 9,
   "id": "21d1f99b-1a9b-4763-a968-853d25a5af95",
   "metadata": {},
   "outputs": [
    {
     "ename": "KeyError",
     "evalue": "'DATE'",
     "output_type": "error",
     "traceback": [
      "\u001b[0;31m---------------------------------------------------------------------------\u001b[0m",
      "\u001b[0;31mKeyError\u001b[0m                                  Traceback (most recent call last)",
      "File \u001b[0;32m~/.conda/envs/oceanpy/lib/python3.9/site-packages/pandas/core/indexes/base.py:3653\u001b[0m, in \u001b[0;36mIndex.get_loc\u001b[0;34m(self, key)\u001b[0m\n\u001b[1;32m   3652\u001b[0m \u001b[38;5;28;01mtry\u001b[39;00m:\n\u001b[0;32m-> 3653\u001b[0m     \u001b[38;5;28;01mreturn\u001b[39;00m \u001b[38;5;28;43mself\u001b[39;49m\u001b[38;5;241;43m.\u001b[39;49m\u001b[43m_engine\u001b[49m\u001b[38;5;241;43m.\u001b[39;49m\u001b[43mget_loc\u001b[49m\u001b[43m(\u001b[49m\u001b[43mcasted_key\u001b[49m\u001b[43m)\u001b[49m\n\u001b[1;32m   3654\u001b[0m \u001b[38;5;28;01mexcept\u001b[39;00m \u001b[38;5;167;01mKeyError\u001b[39;00m \u001b[38;5;28;01mas\u001b[39;00m err:\n",
      "File \u001b[0;32m~/.conda/envs/oceanpy/lib/python3.9/site-packages/pandas/_libs/index.pyx:147\u001b[0m, in \u001b[0;36mpandas._libs.index.IndexEngine.get_loc\u001b[0;34m()\u001b[0m\n",
      "File \u001b[0;32m~/.conda/envs/oceanpy/lib/python3.9/site-packages/pandas/_libs/index.pyx:176\u001b[0m, in \u001b[0;36mpandas._libs.index.IndexEngine.get_loc\u001b[0;34m()\u001b[0m\n",
      "File \u001b[0;32mpandas/_libs/hashtable_class_helper.pxi:7080\u001b[0m, in \u001b[0;36mpandas._libs.hashtable.PyObjectHashTable.get_item\u001b[0;34m()\u001b[0m\n",
      "File \u001b[0;32mpandas/_libs/hashtable_class_helper.pxi:7088\u001b[0m, in \u001b[0;36mpandas._libs.hashtable.PyObjectHashTable.get_item\u001b[0;34m()\u001b[0m\n",
      "\u001b[0;31mKeyError\u001b[0m: 'DATE'",
      "\nThe above exception was the direct cause of the following exception:\n",
      "\u001b[0;31mKeyError\u001b[0m                                  Traceback (most recent call last)",
      "Cell \u001b[0;32mIn[9], line 1\u001b[0m\n\u001b[0;32m----> 1\u001b[0m argo[\u001b[38;5;124m\"\u001b[39m\u001b[38;5;124mDATE\u001b[39m\u001b[38;5;124m\"\u001b[39m] \u001b[38;5;241m=\u001b[39m pd\u001b[38;5;241m.\u001b[39mto_datetime(\u001b[43margo\u001b[49m\u001b[43m[\u001b[49m\u001b[38;5;124;43m\"\u001b[39;49m\u001b[38;5;124;43mDATE\u001b[39;49m\u001b[38;5;124;43m\"\u001b[39;49m\u001b[43m]\u001b[49m)\n",
      "File \u001b[0;32m~/.conda/envs/oceanpy/lib/python3.9/site-packages/pandas/core/frame.py:3761\u001b[0m, in \u001b[0;36mDataFrame.__getitem__\u001b[0;34m(self, key)\u001b[0m\n\u001b[1;32m   3759\u001b[0m \u001b[38;5;28;01mif\u001b[39;00m \u001b[38;5;28mself\u001b[39m\u001b[38;5;241m.\u001b[39mcolumns\u001b[38;5;241m.\u001b[39mnlevels \u001b[38;5;241m>\u001b[39m \u001b[38;5;241m1\u001b[39m:\n\u001b[1;32m   3760\u001b[0m     \u001b[38;5;28;01mreturn\u001b[39;00m \u001b[38;5;28mself\u001b[39m\u001b[38;5;241m.\u001b[39m_getitem_multilevel(key)\n\u001b[0;32m-> 3761\u001b[0m indexer \u001b[38;5;241m=\u001b[39m \u001b[38;5;28;43mself\u001b[39;49m\u001b[38;5;241;43m.\u001b[39;49m\u001b[43mcolumns\u001b[49m\u001b[38;5;241;43m.\u001b[39;49m\u001b[43mget_loc\u001b[49m\u001b[43m(\u001b[49m\u001b[43mkey\u001b[49m\u001b[43m)\u001b[49m\n\u001b[1;32m   3762\u001b[0m \u001b[38;5;28;01mif\u001b[39;00m is_integer(indexer):\n\u001b[1;32m   3763\u001b[0m     indexer \u001b[38;5;241m=\u001b[39m [indexer]\n",
      "File \u001b[0;32m~/.conda/envs/oceanpy/lib/python3.9/site-packages/pandas/core/indexes/base.py:3655\u001b[0m, in \u001b[0;36mIndex.get_loc\u001b[0;34m(self, key)\u001b[0m\n\u001b[1;32m   3653\u001b[0m     \u001b[38;5;28;01mreturn\u001b[39;00m \u001b[38;5;28mself\u001b[39m\u001b[38;5;241m.\u001b[39m_engine\u001b[38;5;241m.\u001b[39mget_loc(casted_key)\n\u001b[1;32m   3654\u001b[0m \u001b[38;5;28;01mexcept\u001b[39;00m \u001b[38;5;167;01mKeyError\u001b[39;00m \u001b[38;5;28;01mas\u001b[39;00m err:\n\u001b[0;32m-> 3655\u001b[0m     \u001b[38;5;28;01mraise\u001b[39;00m \u001b[38;5;167;01mKeyError\u001b[39;00m(key) \u001b[38;5;28;01mfrom\u001b[39;00m \u001b[38;5;21;01merr\u001b[39;00m\n\u001b[1;32m   3656\u001b[0m \u001b[38;5;28;01mexcept\u001b[39;00m \u001b[38;5;167;01mTypeError\u001b[39;00m:\n\u001b[1;32m   3657\u001b[0m     \u001b[38;5;66;03m# If we have a listlike key, _check_indexing_error will raise\u001b[39;00m\n\u001b[1;32m   3658\u001b[0m     \u001b[38;5;66;03m#  InvalidIndexError. Otherwise we fall through and re-raise\u001b[39;00m\n\u001b[1;32m   3659\u001b[0m     \u001b[38;5;66;03m#  the TypeError.\u001b[39;00m\n\u001b[1;32m   3660\u001b[0m     \u001b[38;5;28mself\u001b[39m\u001b[38;5;241m.\u001b[39m_check_indexing_error(key)\n",
      "\u001b[0;31mKeyError\u001b[0m: 'DATE'"
     ]
    }
   ],
   "source": [
    "argo[\"DATE\"] = pd.to_datetime(argo[\"DATE\"])"
   ]
  },
  {
   "cell_type": "code",
   "execution_count": 8,
   "id": "24473244-122c-4380-a32e-64eee80a2e33",
   "metadata": {},
   "outputs": [
    {
     "ename": "KeyboardInterrupt",
     "evalue": "",
     "output_type": "error",
     "traceback": [
      "\u001b[0;31m---------------------------------------------------------------------------\u001b[0m",
      "\u001b[0;31mKeyboardInterrupt\u001b[0m                         Traceback (most recent call last)",
      "Cell \u001b[0;32mIn[8], line 1\u001b[0m\n\u001b[0;32m----> 1\u001b[0m \u001b[43margo\u001b[49m\u001b[38;5;241;43m.\u001b[39;49m\u001b[43mmemory_usage\u001b[49m\u001b[43m(\u001b[49m\u001b[43mdeep\u001b[49m\u001b[38;5;241;43m=\u001b[39;49m\u001b[38;5;28;43;01mTrue\u001b[39;49;00m\u001b[43m)\u001b[49m\n",
      "File \u001b[0;32m~/.conda/envs/oceanpy/lib/python3.9/site-packages/pandas/core/frame.py:3455\u001b[0m, in \u001b[0;36mDataFrame.memory_usage\u001b[0;34m(self, index, deep)\u001b[0m\n\u001b[1;32m   3365\u001b[0m \u001b[38;5;28;01mdef\u001b[39;00m \u001b[38;5;21mmemory_usage\u001b[39m(\u001b[38;5;28mself\u001b[39m, index: \u001b[38;5;28mbool\u001b[39m \u001b[38;5;241m=\u001b[39m \u001b[38;5;28;01mTrue\u001b[39;00m, deep: \u001b[38;5;28mbool\u001b[39m \u001b[38;5;241m=\u001b[39m \u001b[38;5;28;01mFalse\u001b[39;00m) \u001b[38;5;241m-\u001b[39m\u001b[38;5;241m>\u001b[39m Series:\n\u001b[1;32m   3366\u001b[0m \u001b[38;5;250m    \u001b[39m\u001b[38;5;124;03m\"\"\"\u001b[39;00m\n\u001b[1;32m   3367\u001b[0m \u001b[38;5;124;03m    Return the memory usage of each column in bytes.\u001b[39;00m\n\u001b[1;32m   3368\u001b[0m \n\u001b[0;32m   (...)\u001b[0m\n\u001b[1;32m   3452\u001b[0m \u001b[38;5;124;03m    5244\u001b[39;00m\n\u001b[1;32m   3453\u001b[0m \u001b[38;5;124;03m    \"\"\"\u001b[39;00m\n\u001b[1;32m   3454\u001b[0m     result \u001b[38;5;241m=\u001b[39m \u001b[38;5;28mself\u001b[39m\u001b[38;5;241m.\u001b[39m_constructor_sliced(\n\u001b[0;32m-> 3455\u001b[0m         [c\u001b[38;5;241m.\u001b[39mmemory_usage(index\u001b[38;5;241m=\u001b[39m\u001b[38;5;28;01mFalse\u001b[39;00m, deep\u001b[38;5;241m=\u001b[39mdeep) \u001b[38;5;28;01mfor\u001b[39;00m col, c \u001b[38;5;129;01min\u001b[39;00m \u001b[38;5;28mself\u001b[39m\u001b[38;5;241m.\u001b[39mitems()],\n\u001b[1;32m   3456\u001b[0m         index\u001b[38;5;241m=\u001b[39m\u001b[38;5;28mself\u001b[39m\u001b[38;5;241m.\u001b[39mcolumns,\n\u001b[1;32m   3457\u001b[0m         dtype\u001b[38;5;241m=\u001b[39mnp\u001b[38;5;241m.\u001b[39mintp,\n\u001b[1;32m   3458\u001b[0m     )\n\u001b[1;32m   3459\u001b[0m     \u001b[38;5;28;01mif\u001b[39;00m index:\n\u001b[1;32m   3460\u001b[0m         index_memory_usage \u001b[38;5;241m=\u001b[39m \u001b[38;5;28mself\u001b[39m\u001b[38;5;241m.\u001b[39m_constructor_sliced(\n\u001b[1;32m   3461\u001b[0m             \u001b[38;5;28mself\u001b[39m\u001b[38;5;241m.\u001b[39mindex\u001b[38;5;241m.\u001b[39mmemory_usage(deep\u001b[38;5;241m=\u001b[39mdeep), index\u001b[38;5;241m=\u001b[39m[\u001b[38;5;124m\"\u001b[39m\u001b[38;5;124mIndex\u001b[39m\u001b[38;5;124m\"\u001b[39m]\n\u001b[1;32m   3462\u001b[0m         )\n",
      "File \u001b[0;32m~/.conda/envs/oceanpy/lib/python3.9/site-packages/pandas/core/frame.py:3455\u001b[0m, in \u001b[0;36m<listcomp>\u001b[0;34m(.0)\u001b[0m\n\u001b[1;32m   3365\u001b[0m \u001b[38;5;28;01mdef\u001b[39;00m \u001b[38;5;21mmemory_usage\u001b[39m(\u001b[38;5;28mself\u001b[39m, index: \u001b[38;5;28mbool\u001b[39m \u001b[38;5;241m=\u001b[39m \u001b[38;5;28;01mTrue\u001b[39;00m, deep: \u001b[38;5;28mbool\u001b[39m \u001b[38;5;241m=\u001b[39m \u001b[38;5;28;01mFalse\u001b[39;00m) \u001b[38;5;241m-\u001b[39m\u001b[38;5;241m>\u001b[39m Series:\n\u001b[1;32m   3366\u001b[0m \u001b[38;5;250m    \u001b[39m\u001b[38;5;124;03m\"\"\"\u001b[39;00m\n\u001b[1;32m   3367\u001b[0m \u001b[38;5;124;03m    Return the memory usage of each column in bytes.\u001b[39;00m\n\u001b[1;32m   3368\u001b[0m \n\u001b[0;32m   (...)\u001b[0m\n\u001b[1;32m   3452\u001b[0m \u001b[38;5;124;03m    5244\u001b[39;00m\n\u001b[1;32m   3453\u001b[0m \u001b[38;5;124;03m    \"\"\"\u001b[39;00m\n\u001b[1;32m   3454\u001b[0m     result \u001b[38;5;241m=\u001b[39m \u001b[38;5;28mself\u001b[39m\u001b[38;5;241m.\u001b[39m_constructor_sliced(\n\u001b[0;32m-> 3455\u001b[0m         [\u001b[43mc\u001b[49m\u001b[38;5;241;43m.\u001b[39;49m\u001b[43mmemory_usage\u001b[49m\u001b[43m(\u001b[49m\u001b[43mindex\u001b[49m\u001b[38;5;241;43m=\u001b[39;49m\u001b[38;5;28;43;01mFalse\u001b[39;49;00m\u001b[43m,\u001b[49m\u001b[43m \u001b[49m\u001b[43mdeep\u001b[49m\u001b[38;5;241;43m=\u001b[39;49m\u001b[43mdeep\u001b[49m\u001b[43m)\u001b[49m \u001b[38;5;28;01mfor\u001b[39;00m col, c \u001b[38;5;129;01min\u001b[39;00m \u001b[38;5;28mself\u001b[39m\u001b[38;5;241m.\u001b[39mitems()],\n\u001b[1;32m   3456\u001b[0m         index\u001b[38;5;241m=\u001b[39m\u001b[38;5;28mself\u001b[39m\u001b[38;5;241m.\u001b[39mcolumns,\n\u001b[1;32m   3457\u001b[0m         dtype\u001b[38;5;241m=\u001b[39mnp\u001b[38;5;241m.\u001b[39mintp,\n\u001b[1;32m   3458\u001b[0m     )\n\u001b[1;32m   3459\u001b[0m     \u001b[38;5;28;01mif\u001b[39;00m index:\n\u001b[1;32m   3460\u001b[0m         index_memory_usage \u001b[38;5;241m=\u001b[39m \u001b[38;5;28mself\u001b[39m\u001b[38;5;241m.\u001b[39m_constructor_sliced(\n\u001b[1;32m   3461\u001b[0m             \u001b[38;5;28mself\u001b[39m\u001b[38;5;241m.\u001b[39mindex\u001b[38;5;241m.\u001b[39mmemory_usage(deep\u001b[38;5;241m=\u001b[39mdeep), index\u001b[38;5;241m=\u001b[39m[\u001b[38;5;124m\"\u001b[39m\u001b[38;5;124mIndex\u001b[39m\u001b[38;5;124m\"\u001b[39m]\n\u001b[1;32m   3462\u001b[0m         )\n",
      "File \u001b[0;32m~/.conda/envs/oceanpy/lib/python3.9/site-packages/pandas/core/series.py:5328\u001b[0m, in \u001b[0;36mSeries.memory_usage\u001b[0;34m(self, index, deep)\u001b[0m\n\u001b[1;32m   5279\u001b[0m \u001b[38;5;28;01mdef\u001b[39;00m \u001b[38;5;21mmemory_usage\u001b[39m(\u001b[38;5;28mself\u001b[39m, index: \u001b[38;5;28mbool\u001b[39m \u001b[38;5;241m=\u001b[39m \u001b[38;5;28;01mTrue\u001b[39;00m, deep: \u001b[38;5;28mbool\u001b[39m \u001b[38;5;241m=\u001b[39m \u001b[38;5;28;01mFalse\u001b[39;00m) \u001b[38;5;241m-\u001b[39m\u001b[38;5;241m>\u001b[39m \u001b[38;5;28mint\u001b[39m:\n\u001b[1;32m   5280\u001b[0m \u001b[38;5;250m    \u001b[39m\u001b[38;5;124;03m\"\"\"\u001b[39;00m\n\u001b[1;32m   5281\u001b[0m \u001b[38;5;124;03m    Return the memory usage of the Series.\u001b[39;00m\n\u001b[1;32m   5282\u001b[0m \n\u001b[0;32m   (...)\u001b[0m\n\u001b[1;32m   5326\u001b[0m \u001b[38;5;124;03m    244\u001b[39;00m\n\u001b[1;32m   5327\u001b[0m \u001b[38;5;124;03m    \"\"\"\u001b[39;00m\n\u001b[0;32m-> 5328\u001b[0m     v \u001b[38;5;241m=\u001b[39m \u001b[38;5;28;43mself\u001b[39;49m\u001b[38;5;241;43m.\u001b[39;49m\u001b[43m_memory_usage\u001b[49m\u001b[43m(\u001b[49m\u001b[43mdeep\u001b[49m\u001b[38;5;241;43m=\u001b[39;49m\u001b[43mdeep\u001b[49m\u001b[43m)\u001b[49m\n\u001b[1;32m   5329\u001b[0m     \u001b[38;5;28;01mif\u001b[39;00m index:\n\u001b[1;32m   5330\u001b[0m         v \u001b[38;5;241m+\u001b[39m\u001b[38;5;241m=\u001b[39m \u001b[38;5;28mself\u001b[39m\u001b[38;5;241m.\u001b[39mindex\u001b[38;5;241m.\u001b[39mmemory_usage(deep\u001b[38;5;241m=\u001b[39mdeep)\n",
      "File \u001b[0;32m~/.conda/envs/oceanpy/lib/python3.9/site-packages/pandas/core/base.py:1143\u001b[0m, in \u001b[0;36mIndexOpsMixin._memory_usage\u001b[0;34m(self, deep)\u001b[0m\n\u001b[1;32m   1141\u001b[0m \u001b[38;5;28;01mif\u001b[39;00m deep \u001b[38;5;129;01mand\u001b[39;00m is_object_dtype(\u001b[38;5;28mself\u001b[39m) \u001b[38;5;129;01mand\u001b[39;00m \u001b[38;5;129;01mnot\u001b[39;00m PYPY:\n\u001b[1;32m   1142\u001b[0m     values \u001b[38;5;241m=\u001b[39m cast(np\u001b[38;5;241m.\u001b[39mndarray, \u001b[38;5;28mself\u001b[39m\u001b[38;5;241m.\u001b[39m_values)\n\u001b[0;32m-> 1143\u001b[0m     v \u001b[38;5;241m+\u001b[39m\u001b[38;5;241m=\u001b[39m \u001b[43mlib\u001b[49m\u001b[38;5;241;43m.\u001b[39;49m\u001b[43mmemory_usage_of_objects\u001b[49m\u001b[43m(\u001b[49m\u001b[43mvalues\u001b[49m\u001b[43m)\u001b[49m\n\u001b[1;32m   1144\u001b[0m \u001b[38;5;28;01mreturn\u001b[39;00m v\n",
      "\u001b[0;31mKeyboardInterrupt\u001b[0m: "
     ]
    }
   ],
   "source": [
    "argo.memory_usage(deep=True)"
   ]
  },
  {
   "cell_type": "code",
   "execution_count": null,
   "id": "c75b2b83-0b00-4185-84e6-070c24cf9667",
   "metadata": {},
   "outputs": [],
   "source": []
  }
 ],
 "metadata": {
  "kernelspec": {
   "display_name": "Python 3 (ipykernel)",
   "language": "python",
   "name": "python3"
  },
  "language_info": {
   "codemirror_mode": {
    "name": "ipython",
    "version": 3
   },
   "file_extension": ".py",
   "mimetype": "text/x-python",
   "name": "python",
   "nbconvert_exporter": "python",
   "pygments_lexer": "ipython3",
   "version": "3.9.18"
  }
 },
 "nbformat": 4,
 "nbformat_minor": 5
}
