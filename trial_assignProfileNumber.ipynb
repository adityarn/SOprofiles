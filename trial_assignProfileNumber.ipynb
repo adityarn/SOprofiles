{
 "cells": [
  {
   "cell_type": "code",
   "execution_count": 1,
   "id": "b7a59bd7-e4b7-4c27-994b-e75fca5b3f3b",
   "metadata": {},
   "outputs": [],
   "source": [
    "import pandas as pd\n",
    "import xarray as xr"
   ]
  },
  {
   "cell_type": "code",
   "execution_count": 2,
   "id": "d5e2c618-ccce-436e-8b47-a95debf071a9",
   "metadata": {},
   "outputs": [],
   "source": [
    "data = {\n",
    "    'pressure': [0, 100, 200, 0, 50, 100, 0, 100, 200, 300],\n",
    "    'latitude': [10, 10, 10, 20, 20, 20, 30, 30, 30, 30],\n",
    "    'longitude': [50, 50, 50, 60, 60, 60, 70, 70, 70, 70],\n",
    "    'temperature': [25, 24, 23, 26, 25.5, 25, 27, 26, 25, 24]\n",
    "}"
   ]
  },
  {
   "cell_type": "code",
   "execution_count": 3,
   "id": "e04c43f2-2968-414d-89ca-3278af272429",
   "metadata": {},
   "outputs": [],
   "source": [
    "df = pd.DataFrame(data)\n",
    "\n",
    "# Add a profile_id for each unique profile\n",
    "df['profile_id'] = (df['pressure'] == 0).cumsum()"
   ]
  },
  {
   "cell_type": "code",
   "execution_count": 4,
   "id": "5b922e33-4daf-47fa-b905-8e0db570511d",
   "metadata": {},
   "outputs": [
    {
     "data": {
      "text/html": [
       "<div>\n",
       "<style scoped>\n",
       "    .dataframe tbody tr th:only-of-type {\n",
       "        vertical-align: middle;\n",
       "    }\n",
       "\n",
       "    .dataframe tbody tr th {\n",
       "        vertical-align: top;\n",
       "    }\n",
       "\n",
       "    .dataframe thead th {\n",
       "        text-align: right;\n",
       "    }\n",
       "</style>\n",
       "<table border=\"1\" class=\"dataframe\">\n",
       "  <thead>\n",
       "    <tr style=\"text-align: right;\">\n",
       "      <th></th>\n",
       "      <th>pressure</th>\n",
       "      <th>latitude</th>\n",
       "      <th>longitude</th>\n",
       "      <th>temperature</th>\n",
       "      <th>profile_id</th>\n",
       "    </tr>\n",
       "  </thead>\n",
       "  <tbody>\n",
       "    <tr>\n",
       "      <th>0</th>\n",
       "      <td>0</td>\n",
       "      <td>10</td>\n",
       "      <td>50</td>\n",
       "      <td>25.0</td>\n",
       "      <td>1</td>\n",
       "    </tr>\n",
       "    <tr>\n",
       "      <th>1</th>\n",
       "      <td>100</td>\n",
       "      <td>10</td>\n",
       "      <td>50</td>\n",
       "      <td>24.0</td>\n",
       "      <td>1</td>\n",
       "    </tr>\n",
       "    <tr>\n",
       "      <th>2</th>\n",
       "      <td>200</td>\n",
       "      <td>10</td>\n",
       "      <td>50</td>\n",
       "      <td>23.0</td>\n",
       "      <td>1</td>\n",
       "    </tr>\n",
       "    <tr>\n",
       "      <th>3</th>\n",
       "      <td>0</td>\n",
       "      <td>20</td>\n",
       "      <td>60</td>\n",
       "      <td>26.0</td>\n",
       "      <td>2</td>\n",
       "    </tr>\n",
       "    <tr>\n",
       "      <th>4</th>\n",
       "      <td>50</td>\n",
       "      <td>20</td>\n",
       "      <td>60</td>\n",
       "      <td>25.5</td>\n",
       "      <td>2</td>\n",
       "    </tr>\n",
       "    <tr>\n",
       "      <th>5</th>\n",
       "      <td>100</td>\n",
       "      <td>20</td>\n",
       "      <td>60</td>\n",
       "      <td>25.0</td>\n",
       "      <td>2</td>\n",
       "    </tr>\n",
       "    <tr>\n",
       "      <th>6</th>\n",
       "      <td>0</td>\n",
       "      <td>30</td>\n",
       "      <td>70</td>\n",
       "      <td>27.0</td>\n",
       "      <td>3</td>\n",
       "    </tr>\n",
       "    <tr>\n",
       "      <th>7</th>\n",
       "      <td>100</td>\n",
       "      <td>30</td>\n",
       "      <td>70</td>\n",
       "      <td>26.0</td>\n",
       "      <td>3</td>\n",
       "    </tr>\n",
       "    <tr>\n",
       "      <th>8</th>\n",
       "      <td>200</td>\n",
       "      <td>30</td>\n",
       "      <td>70</td>\n",
       "      <td>25.0</td>\n",
       "      <td>3</td>\n",
       "    </tr>\n",
       "    <tr>\n",
       "      <th>9</th>\n",
       "      <td>300</td>\n",
       "      <td>30</td>\n",
       "      <td>70</td>\n",
       "      <td>24.0</td>\n",
       "      <td>3</td>\n",
       "    </tr>\n",
       "  </tbody>\n",
       "</table>\n",
       "</div>"
      ],
      "text/plain": [
       "   pressure  latitude  longitude  temperature  profile_id\n",
       "0         0        10         50         25.0           1\n",
       "1       100        10         50         24.0           1\n",
       "2       200        10         50         23.0           1\n",
       "3         0        20         60         26.0           2\n",
       "4        50        20         60         25.5           2\n",
       "5       100        20         60         25.0           2\n",
       "6         0        30         70         27.0           3\n",
       "7       100        30         70         26.0           3\n",
       "8       200        30         70         25.0           3\n",
       "9       300        30         70         24.0           3"
      ]
     },
     "execution_count": 4,
     "metadata": {},
     "output_type": "execute_result"
    }
   ],
   "source": [
    "df"
   ]
  },
  {
   "cell_type": "code",
   "execution_count": 5,
   "id": "8dca1d5f-c285-4dfe-a702-3fe12c448fd3",
   "metadata": {},
   "outputs": [
    {
     "data": {
      "text/plain": [
       "0    1\n",
       "1    1\n",
       "2    1\n",
       "3    2\n",
       "4    2\n",
       "5    2\n",
       "6    3\n",
       "7    3\n",
       "8    3\n",
       "9    3\n",
       "Name: pressure, dtype: int64"
      ]
     },
     "execution_count": 5,
     "metadata": {},
     "output_type": "execute_result"
    }
   ],
   "source": [
    "(df['pressure'] == 0).cumsum()"
   ]
  },
  {
   "cell_type": "code",
   "execution_count": null,
   "id": "51667ea1-75ac-40b9-adf6-e32d1e7aa72b",
   "metadata": {},
   "outputs": [],
   "source": [
    "df['pressure_diff'] = df['pressure'].diff()\n",
    "\n",
    "# Add a profile_id for each unique profile based on where the pressure drops\n",
    "df['profile_id'] = (df['pressure_diff'] < 0).shift(fill_value=False).cumsum()\n",
    "\n",
    "# Drop the temporary pressure_diff column\n",
    "df.drop(columns=['pressure_diff'], inplace=True)\n",
    "\n",
    "print(df)"
   ]
  }
 ],
 "metadata": {
  "kernelspec": {
   "display_name": "Python 3 (ipykernel)",
   "language": "python",
   "name": "python3"
  },
  "language_info": {
   "codemirror_mode": {
    "name": "ipython",
    "version": 3
   },
   "file_extension": ".py",
   "mimetype": "text/x-python",
   "name": "python",
   "nbconvert_exporter": "python",
   "pygments_lexer": "ipython3",
   "version": "3.9.18"
  }
 },
 "nbformat": 4,
 "nbformat_minor": 5
}
