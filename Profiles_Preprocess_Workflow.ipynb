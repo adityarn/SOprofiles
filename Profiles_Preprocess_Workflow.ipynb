{
 "cells": [
  {
   "cell_type": "markdown",
   "id": "be47780a-71c0-4bd0-94da-7a0cf2f99991",
   "metadata": {},
   "source": [
    "# Follow this order for preprocessing raw MEOP \n",
    "\n",
    "1. PreProcessMEOP_2021.ipynb\n",
    "1. MEOPPreProcess_2.ipynb\n",
    "1. AssignBathy_MEOP.ipynb\n",
    "1. meop_finalMerge.ipynb\n"
   ]
  },
  {
   "cell_type": "markdown",
   "id": "29599487-7f2f-4d46-9bbd-7f1255d13cfe",
   "metadata": {},
   "source": [
    "# Follow this order for preprocessing raw Argo \n",
    "\n",
    "1. PreProcessMEOP_2021.ipynb\n",
    "1. MEOPPreProcess_2.ipynb\n",
    "1. AssignBathy_MEOP.ipynb\n",
    "1. meop_finalMerge.ipynb\n"
   ]
  },
  {
   "cell_type": "markdown",
   "id": "6ed72640-5fe7-4293-982a-45e27202d546",
   "metadata": {},
   "source": []
  }
 ],
 "metadata": {
  "kernelspec": {
   "display_name": "",
   "name": ""
  },
  "language_info": {
   "name": ""
  }
 },
 "nbformat": 4,
 "nbformat_minor": 5
}
