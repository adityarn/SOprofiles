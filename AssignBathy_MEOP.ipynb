{
 "cells": [
  {
   "cell_type": "code",
   "execution_count": 1,
   "id": "b2668605-ff6a-424e-a926-36ca8d67dac0",
   "metadata": {},
   "outputs": [],
   "source": [
    "import pandas as pd\n",
    "import polars as pl\n",
    "import dask.dataframe as dd\n",
    "import dask.multiprocessing\n",
    "import xarray as xr"
   ]
  },
  {
   "cell_type": "code",
   "execution_count": 2,
   "id": "e638a306-1eb5-4323-9559-a413357adc76",
   "metadata": {},
   "outputs": [],
   "source": [
    "bathy = xr.open_dataset(\"/home/an1n23/datasets/IBCSO_v2_ice-surface_WGS84.nc\")"
   ]
  },
  {
   "cell_type": "code",
   "execution_count": 7,
   "id": "b195e935-0d43-4206-8b8a-dc4bdb08fd6e",
   "metadata": {},
   "outputs": [],
   "source": [
    "def get_depth(row):\n",
    "    return bathy.z.interp(lat=row['LATITUDE'], lon=row['LONGITUDE']).item()\n",
    "def get_depth_nearest(row):\n",
    "    return bathy.z.sel(lat=row['LATITUDE'], lon=row['LONGITUDE'], method=\"nearest\").item()\n",
    "    \n",
    "def assign_echodepth(df):\n",
    "    ind = df.index\n",
    "    lon = df.loc[ind[0], 'LONGITUDE']\n",
    "    lat = df.loc[ind[0],'LATITUDE']\n",
    "    ind_lon = np.argmin(np.abs(lons - lon))\n",
    "    ind_lat = np.argmin(np.abs(lats - lat))\n",
    "    df.loc[:,'ECHODEPTH'] = bathy.variables['elevation'][ind_lat, ind_lon]\n",
    "\n",
    "    return df"
   ]
  },
  {
   "cell_type": "code",
   "execution_count": 4,
   "id": "157cf14f-eb9f-4119-81e7-dd4e0b178af9",
   "metadata": {},
   "outputs": [],
   "source": [
    "!ls /home/an1n23/datasets/merged_RS_AS_MEOP26112021.csv/*.part > arbit_filelist.txt"
   ]
  },
  {
   "cell_type": "code",
   "execution_count": 5,
   "id": "7bc10685-5425-41ce-b730-b5af6ac2c157",
   "metadata": {},
   "outputs": [],
   "source": [
    "meopfiles = pd.read_csv(\"arbit_filelist.txt\", header=None)"
   ]
  },
  {
   "cell_type": "code",
   "execution_count": 6,
   "id": "0c9a2e41-a23a-4d49-9e41-10dbb521458d",
   "metadata": {},
   "outputs": [],
   "source": [
    "!rm /scratch/an1n23/meop_RS_AS/*.part"
   ]
  },
  {
   "cell_type": "code",
   "execution_count": 49,
   "id": "06968f92-a78a-43e0-b3cc-93ae0b6cc128",
   "metadata": {},
   "outputs": [],
   "source": [
    "!mkdir /scratch/an1n23/meop_RS_AS"
   ]
  },
  {
   "cell_type": "code",
   "execution_count": 13,
   "id": "1bf75c60-f0eb-4ead-87b8-f43c1e4f1570",
   "metadata": {},
   "outputs": [
    {
     "data": {
      "text/plain": [
       "'00.part'"
      ]
     },
     "execution_count": 13,
     "metadata": {},
     "output_type": "execute_result"
    }
   ],
   "source": [
    "meopfiles[0][0].split(\"/\")[-1]"
   ]
  },
  {
   "cell_type": "code",
   "execution_count": 14,
   "id": "a4d6a44d-f052-470c-a521-980e193f64fe",
   "metadata": {},
   "outputs": [
    {
     "name": "stdout",
     "output_type": "stream",
     "text": [
      "Processing file: /home/an1n23/datasets/merged_RS_AS_MEOP26112021.csv/00.part\n",
      "Processing file: /home/an1n23/datasets/merged_RS_AS_MEOP26112021.csv/01.part\n",
      "Processing file: /home/an1n23/datasets/merged_RS_AS_MEOP26112021.csv/02.part\n",
      "Processing file: /home/an1n23/datasets/merged_RS_AS_MEOP26112021.csv/03.part\n",
      "Processing file: /home/an1n23/datasets/merged_RS_AS_MEOP26112021.csv/04.part\n",
      "Processing file: /home/an1n23/datasets/merged_RS_AS_MEOP26112021.csv/05.part\n",
      "Processing file: /home/an1n23/datasets/merged_RS_AS_MEOP26112021.csv/06.part\n",
      "Processing file: /home/an1n23/datasets/merged_RS_AS_MEOP26112021.csv/07.part\n",
      "Processing file: /home/an1n23/datasets/merged_RS_AS_MEOP26112021.csv/08.part\n",
      "Processing file: /home/an1n23/datasets/merged_RS_AS_MEOP26112021.csv/09.part\n",
      "Processing file: /home/an1n23/datasets/merged_RS_AS_MEOP26112021.csv/10.part\n",
      "Processing file: /home/an1n23/datasets/merged_RS_AS_MEOP26112021.csv/11.part\n",
      "Processing file: /home/an1n23/datasets/merged_RS_AS_MEOP26112021.csv/12.part\n",
      "Processing file: /home/an1n23/datasets/merged_RS_AS_MEOP26112021.csv/13.part\n",
      "Processing file: /home/an1n23/datasets/merged_RS_AS_MEOP26112021.csv/14.part\n",
      "Processing file: /home/an1n23/datasets/merged_RS_AS_MEOP26112021.csv/15.part\n",
      "Processing file: /home/an1n23/datasets/merged_RS_AS_MEOP26112021.csv/16.part\n",
      "Processing file: /home/an1n23/datasets/merged_RS_AS_MEOP26112021.csv/17.part\n",
      "Processing file: /home/an1n23/datasets/merged_RS_AS_MEOP26112021.csv/18.part\n",
      "Processing file: /home/an1n23/datasets/merged_RS_AS_MEOP26112021.csv/19.part\n",
      "Processing file: /home/an1n23/datasets/merged_RS_AS_MEOP26112021.csv/20.part\n",
      "Processing file: /home/an1n23/datasets/merged_RS_AS_MEOP26112021.csv/21.part\n",
      "Processing file: /home/an1n23/datasets/merged_RS_AS_MEOP26112021.csv/22.part\n",
      "Processing file: /home/an1n23/datasets/merged_RS_AS_MEOP26112021.csv/23.part\n",
      "Processing file: /home/an1n23/datasets/merged_RS_AS_MEOP26112021.csv/24.part\n",
      "Processing file: /home/an1n23/datasets/merged_RS_AS_MEOP26112021.csv/25.part\n",
      "Processing file: /home/an1n23/datasets/merged_RS_AS_MEOP26112021.csv/26.part\n",
      "Processing file: /home/an1n23/datasets/merged_RS_AS_MEOP26112021.csv/27.part\n",
      "Processing file: /home/an1n23/datasets/merged_RS_AS_MEOP26112021.csv/28.part\n",
      "Processing file: /home/an1n23/datasets/merged_RS_AS_MEOP26112021.csv/29.part\n",
      "Processing file: /home/an1n23/datasets/merged_RS_AS_MEOP26112021.csv/30.part\n",
      "Processing file: /home/an1n23/datasets/merged_RS_AS_MEOP26112021.csv/31.part\n",
      "Processing file: /home/an1n23/datasets/merged_RS_AS_MEOP26112021.csv/32.part\n",
      "Processing file: /home/an1n23/datasets/merged_RS_AS_MEOP26112021.csv/33.part\n",
      "Processing file: /home/an1n23/datasets/merged_RS_AS_MEOP26112021.csv/34.part\n",
      "Processing file: /home/an1n23/datasets/merged_RS_AS_MEOP26112021.csv/35.part\n",
      "Processing file: /home/an1n23/datasets/merged_RS_AS_MEOP26112021.csv/36.part\n"
     ]
    }
   ],
   "source": [
    "for f in meopfiles[0][:]:\n",
    "    print(\"Processing file:\", f)\n",
    "    \n",
    "    meop = pd.read_csv(f)\n",
    "    unnamed_cols = [col for col in meop.columns if col.startswith(\"Unnamed\")]\n",
    "    meop = meop.drop(columns = unnamed_cols)\n",
    "    sel_lat = meop[\"LATITUDE\"] <= -50\n",
    "    \n",
    "    meop = meop.loc[sel_lat]\n",
    "\n",
    "\n",
    "    unique_coords = meop.drop_duplicates(subset=['LATITUDE', 'LONGITUDE'])\\\n",
    "                                       [['LATITUDE', 'LONGITUDE']]\n",
    "    unique_coords[\"ECHODEPTH\"] = unique_coords.apply(get_depth_nearest, axis=1)\n",
    "    \n",
    "    meop = meop.merge(unique_coords, on=['LATITUDE', 'LONGITUDE'], how='left')\n",
    "    \n",
    "    meop.to_csv(\"/scratch/an1n23/meop_RS_AS/\"+f.split(\"/\")[-1], index=False)\n",
    "    \n",
    "    del(meop)\n",
    "        \n",
    "        \n",
    "    "
   ]
  },
  {
   "cell_type": "code",
   "execution_count": null,
   "id": "0efbf85a-c9f8-4efd-9153-c3a6a45d6e36",
   "metadata": {},
   "outputs": [],
   "source": [
    "!echo \"completed meop assign bathy 30092023\" > arbit.txt"
   ]
  }
 ],
 "metadata": {
  "kernelspec": {
   "display_name": "Python 3 (ipykernel)",
   "language": "python",
   "name": "python3"
  },
  "language_info": {
   "codemirror_mode": {
    "name": "ipython",
    "version": 3
   },
   "file_extension": ".py",
   "mimetype": "text/x-python",
   "name": "python",
   "nbconvert_exporter": "python",
   "pygments_lexer": "ipython3",
   "version": "3.9.18"
  }
 },
 "nbformat": 4,
 "nbformat_minor": 5
}
